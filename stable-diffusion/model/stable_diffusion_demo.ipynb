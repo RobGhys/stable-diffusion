{
 "cells": [
  {
   "metadata": {},
   "cell_type": "markdown",
   "source": "# Stable Diffusion",
   "id": "fe757dc4ddd47437"
  },
  {
   "cell_type": "code",
   "id": "initial_id",
   "metadata": {
    "collapsed": true,
    "ExecuteTime": {
     "end_time": "2024-11-27T15:30:23.470454Z",
     "start_time": "2024-11-27T15:30:21.558858Z"
    }
   },
   "source": [
    "import model_loader\n",
    "import pipeline\n",
    "from PIL import Image\n",
    "from transformers import CLIPTokenizer\n",
    "import torch"
   ],
   "outputs": [
    {
     "name": "stderr",
     "output_type": "stream",
     "text": [
      "/home/rob/Documents/Github/stable-diffusion/.venv/lib/python3.10/site-packages/tqdm/auto.py:21: TqdmWarning: IProgress not found. Please update jupyter and ipywidgets. See https://ipywidgets.readthedocs.io/en/stable/user_install.html\n",
      "  from .autonotebook import tqdm as notebook_tqdm\n"
     ]
    }
   ],
   "execution_count": 1
  },
  {
   "metadata": {
    "ExecuteTime": {
     "end_time": "2024-11-27T15:30:23.488739Z",
     "start_time": "2024-11-27T15:30:23.477930Z"
    }
   },
   "cell_type": "code",
   "source": [
    "DEVICE = 'cpu'\n",
    "ALLOW_CUDA = False\n",
    "ALLOW_MPS = False\n",
    "\n",
    "if torch.cuda.is_available() and ALLOW_CUDA:\n",
    "    DEVICE = 'cuda'\n",
    "elif (torch.backends.mps.is_built() or torch.backends.mps.is_available()) and ALLOW_MPS:\n",
    "    DEVICE = 'mps'\n",
    "print(f'Using device: {DEVICE}')"
   ],
   "id": "a7e255126ea1edf5",
   "outputs": [
    {
     "name": "stdout",
     "output_type": "stream",
     "text": [
      "Using device: cpu\n"
     ]
    }
   ],
   "execution_count": 2
  },
  {
   "metadata": {
    "ExecuteTime": {
     "end_time": "2024-11-27T15:30:23.690704Z",
     "start_time": "2024-11-27T15:30:23.617513Z"
    }
   },
   "cell_type": "code",
   "source": [
    "tokenizer = CLIPTokenizer(\"../data/vocab.json\", merges_file=\"../data/merges.txt\")\n",
    "model_file = \"../data/v1-5-pruned-emaonly.ckpt\""
   ],
   "id": "caec5eaa635d13bd",
   "outputs": [],
   "execution_count": 3
  },
  {
   "metadata": {
    "ExecuteTime": {
     "end_time": "2024-11-27T15:30:36.465405Z",
     "start_time": "2024-11-27T15:30:23.698071Z"
    }
   },
   "cell_type": "code",
   "source": "models = model_loader.preload_models_from_standard_weights(model_file, DEVICE)",
   "id": "6511e630c318a032",
   "outputs": [],
   "execution_count": 4
  },
  {
   "metadata": {},
   "cell_type": "markdown",
   "source": "## Text to Image",
   "id": "846fb54f72b1017c"
  },
  {
   "metadata": {
    "ExecuteTime": {
     "end_time": "2024-11-27T15:30:36.483150Z",
     "start_time": "2024-11-27T15:30:36.480626Z"
    }
   },
   "cell_type": "code",
   "source": [
    "prompt = 'A cat stretching on the floor, highly detailed, ultra sharp, cinematic, 8k resolution'\n",
    "uncond_prompt = '' # negative prompt"
   ],
   "id": "7775ee8cd5b1306a",
   "outputs": [],
   "execution_count": 5
  },
  {
   "metadata": {
    "ExecuteTime": {
     "end_time": "2024-11-27T15:30:36.523534Z",
     "start_time": "2024-11-27T15:30:36.520480Z"
    }
   },
   "cell_type": "code",
   "source": [
    "do_cfg = True # classifier-free guidance\n",
    "cfg_scale =  7"
   ],
   "id": "cb0abf26e7b6597a",
   "outputs": [],
   "execution_count": 6
  },
  {
   "metadata": {},
   "cell_type": "markdown",
   "source": "## Image to Image",
   "id": "2a3430ac85960a9"
  },
  {
   "metadata": {
    "ExecuteTime": {
     "end_time": "2024-11-27T15:30:36.570601Z",
     "start_time": "2024-11-27T15:30:36.567260Z"
    }
   },
   "cell_type": "code",
   "source": [
    "input_image = None\n",
    "image_path = '../data/dog.jpg'\n",
    "#input_image = Image.open(image_path)\n",
    "strength = 0.9"
   ],
   "id": "e3f59f090d66bc03",
   "outputs": [],
   "execution_count": 7
  },
  {
   "metadata": {
    "ExecuteTime": {
     "end_time": "2024-11-27T15:30:36.617943Z",
     "start_time": "2024-11-27T15:30:36.614567Z"
    }
   },
   "cell_type": "code",
   "source": [
    "sampler = 'ddpm'\n",
    "num_inference_steps = 50\n",
    "seed = 42"
   ],
   "id": "3c26299d0369aa3f",
   "outputs": [],
   "execution_count": 8
  },
  {
   "metadata": {
    "ExecuteTime": {
     "end_time": "2024-11-27T15:35:45.538677Z",
     "start_time": "2024-11-27T15:30:36.664346Z"
    }
   },
   "cell_type": "code",
   "source": [
    "output_image = pipeline.generate(\n",
    "    prompt=prompt, \n",
    "    uncond_prompt=uncond_prompt,\n",
    "    input_image=input_image, \n",
    "    strength=strength, \n",
    "    do_cfg=do_cfg, \n",
    "    cfg_scale=cfg_scale,\n",
    "    sampler_name=sampler,\n",
    "    n_inference_steps=num_inference_steps,\n",
    "    seed=seed,\n",
    "    models=models, \n",
    "    device=DEVICE,\n",
    "    idle_device='cpu',\n",
    "    tokenizer=tokenizer\n",
    ")"
   ],
   "id": "8e64005d055e867b",
   "outputs": [
    {
     "name": "stderr",
     "output_type": "stream",
     "text": [
      "100%|██████████| 50/50 [05:02<00:00,  6.05s/it]\n"
     ]
    }
   ],
   "execution_count": 9
  },
  {
   "metadata": {
    "ExecuteTime": {
     "end_time": "2024-11-27T15:35:45.567424Z",
     "start_time": "2024-11-27T15:35:45.555111Z"
    }
   },
   "cell_type": "code",
   "source": "output_image",
   "id": "242a4189b9b8abdc",
   "outputs": [
    {
     "data": {
      "text/plain": [
       "array([[[0, 0, 0],\n",
       "        [0, 0, 0],\n",
       "        [0, 0, 0],\n",
       "        ...,\n",
       "        [0, 0, 0],\n",
       "        [0, 0, 0],\n",
       "        [0, 0, 0]],\n",
       "\n",
       "       [[0, 0, 0],\n",
       "        [0, 0, 0],\n",
       "        [0, 0, 0],\n",
       "        ...,\n",
       "        [0, 0, 0],\n",
       "        [0, 0, 0],\n",
       "        [0, 0, 0]],\n",
       "\n",
       "       [[0, 0, 0],\n",
       "        [0, 0, 0],\n",
       "        [0, 0, 0],\n",
       "        ...,\n",
       "        [0, 0, 0],\n",
       "        [0, 0, 0],\n",
       "        [0, 0, 0]],\n",
       "\n",
       "       ...,\n",
       "\n",
       "       [[0, 0, 0],\n",
       "        [0, 0, 0],\n",
       "        [0, 0, 0],\n",
       "        ...,\n",
       "        [0, 0, 0],\n",
       "        [0, 0, 0],\n",
       "        [0, 0, 0]],\n",
       "\n",
       "       [[0, 0, 0],\n",
       "        [0, 0, 0],\n",
       "        [0, 0, 0],\n",
       "        ...,\n",
       "        [0, 0, 0],\n",
       "        [0, 0, 0],\n",
       "        [0, 0, 0]],\n",
       "\n",
       "       [[0, 0, 0],\n",
       "        [0, 0, 0],\n",
       "        [0, 0, 0],\n",
       "        ...,\n",
       "        [0, 0, 0],\n",
       "        [0, 0, 0],\n",
       "        [0, 0, 0]]], dtype=uint8)"
      ]
     },
     "execution_count": 10,
     "metadata": {},
     "output_type": "execute_result"
    }
   ],
   "execution_count": 10
  },
  {
   "metadata": {
    "ExecuteTime": {
     "end_time": "2024-11-27T15:35:45.702348Z",
     "start_time": "2024-11-27T15:35:45.664469Z"
    }
   },
   "cell_type": "code",
   "source": "Image.fromarray(output_image)",
   "id": "67b63ee2347989ad",
   "outputs": [
    {
     "data": {
      "text/plain": [
       "<PIL.Image.Image image mode=RGB size=512x512>"
      ],
      "image/png": "[encoded data removed]",
      "image/jpeg": "[encoded data removed]"
     },
     "execution_count": 11,
     "metadata": {},
     "output_type": "execute_result"
    }
   ],
   "execution_count": 11
  },
  {
   "metadata": {
    "ExecuteTime": {
     "end_time": "2024-11-27T15:35:45.722638Z",
     "start_time": "2024-11-27T15:35:45.720614Z"
    }
   },
   "cell_type": "code",
   "source": "",
   "id": "e1cffbb64ffccf0a",
   "outputs": [],
   "execution_count": null
  }
 ],
 "metadata": {
  "kernelspec": {
   "display_name": "Python 3",
   "language": "python",
   "name": "python3"
  },
  "language_info": {
   "codemirror_mode": {
    "name": "ipython",
    "version": 2
   },
   "file_extension": ".py",
   "mimetype": "text/x-python",
   "name": "python",
   "nbconvert_exporter": "python",
   "pygments_lexer": "ipython2",
   "version": "2.7.6"
  }
 },
 "nbformat": 4,
 "nbformat_minor": 5
}
